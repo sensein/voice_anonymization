{
 "cells": [
  {
   "cell_type": "markdown",
   "metadata": {},
   "source": [
    "test notebook to upload to hf"
   ]
  },
  {
   "cell_type": "code",
   "execution_count": 1,
   "metadata": {},
   "outputs": [
    {
     "name": "stderr",
     "output_type": "stream",
     "text": [
      "/om2/user/azain/anaconda/envs/voice-anon/lib/python3.10/site-packages/tqdm/auto.py:21: TqdmWarning: IProgress not found. Please update jupyter and ipywidgets. See https://ipywidgets.readthedocs.io/en/stable/user_install.html\n",
      "  from .autonotebook import tqdm as notebook_tqdm\n"
     ]
    }
   ],
   "source": [
    "from src.preprocessing import create_audio_dataset, upload_to_huggingface"
   ]
  },
  {
   "cell_type": "code",
   "execution_count": 2,
   "metadata": {},
   "outputs": [],
   "source": [
    "codebase_dir = '/om2/user/azain/code/voice_anonymization'\n",
    "transcript_path_pattern = \"{base_name}.original.txt\"\n",
    "hf_dataset_name = \"azain/LibriTTS\"\n",
    "raw_data_path = f'{codebase_dir}/data/raw/LibriTTS/dev-clean'\n",
    "processed_data_path = f\"{codebase_dir}/tmp/LibriTTS-processed\""
   ]
  },
  {
   "cell_type": "code",
   "execution_count": 3,
   "metadata": {},
   "outputs": [
    {
     "name": "stdout",
     "output_type": "stream",
     "text": [
      "loading files from /om2/user/azain/code/voice_anonymization/data/raw/LibriTTS/dev-clean...\n",
      "done creating audio dataset\n"
     ]
    }
   ],
   "source": [
    "audio_dataset = create_audio_dataset(raw_data_path, transcript_path_pattern)"
   ]
  },
  {
   "cell_type": "code",
   "execution_count": 4,
   "metadata": {},
   "outputs": [
    {
     "data": {
      "text/plain": [
       "Dataset({\n",
       "    features: ['audio', 'transcript', 'speaker_id'],\n",
       "    num_rows: 5736\n",
       "})"
      ]
     },
     "execution_count": 4,
     "metadata": {},
     "output_type": "execute_result"
    }
   ],
   "source": [
    "audio_dataset"
   ]
  },
  {
   "cell_type": "code",
   "execution_count": 5,
   "metadata": {},
   "outputs": [
    {
     "data": {
      "text/plain": [
       "{'audio': {'path': '/om2/user/azain/code/voice_anonymization/data/raw/LibriTTS/dev-clean/1272/128104/1272_128104_000001_000000.wav',\n",
       "  'array': array([ 1.22070312e-04,  3.05175781e-05,  0.00000000e+00, ...,\n",
       "         -5.46264648e-03,  1.22070312e-04,  2.38037109e-03]),\n",
       "  'sampling_rate': 24000},\n",
       " 'transcript': \"A 'JOLLY' ART CRITIC\",\n",
       " 'speaker_id': '1272'}"
      ]
     },
     "execution_count": 5,
     "metadata": {},
     "output_type": "execute_result"
    }
   ],
   "source": [
    "audio_dataset[0]"
   ]
  },
  {
   "cell_type": "code",
   "execution_count": 6,
   "metadata": {},
   "outputs": [],
   "source": [
    "n=100\n",
    "audio_dataset = audio_dataset.shuffle(seed=42) # shuffle to get random samples\n",
    "audio_dataset = audio_dataset.select(range(n)) # small dataset for testing"
   ]
  },
  {
   "cell_type": "code",
   "execution_count": 7,
   "metadata": {},
   "outputs": [
    {
     "name": "stdout",
     "output_type": "stream",
     "text": [
      "attempting to upload to huggingface...\n",
      "Hugging Face token found. Uploading dataset...\n"
     ]
    },
    {
     "name": "stderr",
     "output_type": "stream",
     "text": [
      "Map: 100%|██████████| 100/100 [00:00<00:00, 282.64 examples/s]it/s]\n",
      "Creating parquet from Arrow format: 100%|██████████| 1/1 [00:00<00:00, 15.13ba/s]\n",
      "Uploading the dataset shards: 100%|██████████| 1/1 [00:34<00:00, 34.11s/it]\n"
     ]
    },
    {
     "name": "stdout",
     "output_type": "stream",
     "text": [
      "Dataset uploaded to Hugging Face as azain/LibriTTS-100-samples.\n"
     ]
    }
   ],
   "source": [
    "upload_to_huggingface(audio_dataset, f'azain/LibriTTS-{n}-samples')"
   ]
  }
 ],
 "metadata": {
  "kernelspec": {
   "display_name": "voice-anon",
   "language": "python",
   "name": "python3"
  },
  "language_info": {
   "codemirror_mode": {
    "name": "ipython",
    "version": 3
   },
   "file_extension": ".py",
   "mimetype": "text/x-python",
   "name": "python",
   "nbconvert_exporter": "python",
   "pygments_lexer": "ipython3",
   "version": "3.10.14"
  }
 },
 "nbformat": 4,
 "nbformat_minor": 2
}
